{
 "cells": [
  {
   "cell_type": "code",
   "execution_count": 1,
   "metadata": {},
   "outputs": [],
   "source": [
    "from pylatexenc.latex2text import LatexNodes2Text\n",
    "import re"
   ]
  },
  {
   "cell_type": "markdown",
   "metadata": {},
   "source": [
    "# INITIALIZING EQUATION"
   ]
  },
  {
   "cell_type": "code",
   "execution_count": 2,
   "metadata": {},
   "outputs": [
    {
     "name": "stdout",
     "output_type": "stream",
     "text": [
      "3·x^3 + (1 - 2) + 3·x^2\n",
      "3·x^3 + (1 -3·(x+2)) + 3·x^2\n"
     ]
    }
   ],
   "source": [
    "EQUATIONS = list()\n",
    "\n",
    "latex = \"3\\cdot x^3 + (1 - 2) + 3\\cdot x^2\"\n",
    "text=LatexNodes2Text().latex_to_text(latex)\n",
    "text\n",
    "expr = \"3·x^3 + (1 -3·(x+2)) + 3·x^2\"\n",
    "print(text)\n",
    "print(expr)"
   ]
  },
  {
   "cell_type": "markdown",
   "metadata": {},
   "source": [
    "# SEPARATION DE L EQUATION EN BLOCS"
   ]
  },
  {
   "cell_type": "code",
   "execution_count": 3,
   "metadata": {},
   "outputs": [],
   "source": [
    "def blocc(latex, sbloc_flag = False) : \n",
    "\n",
    "    enbloc =  re.split('(\\\\+|\\\\-|\\\\(|\\\\))',latex)\n",
    "\n",
    "    fbloc = list()\n",
    "    temp = \"\"\n",
    "    flag_n = 0\n",
    "    for x in enbloc:\n",
    "\n",
    "        if sbloc_flag == False:\n",
    "            if '(' in x:\n",
    "                flag_n += 1\n",
    "                temp += x\n",
    "                continue\n",
    "\n",
    "            if ')'  in x:\n",
    "                flag_n -=1\n",
    "                temp += x\n",
    "                continue\n",
    "\n",
    "\n",
    "        if flag_n == 0:\n",
    "            if temp != \"\":\n",
    "                fbloc.append(temp)\n",
    "                temp = \"\"\n",
    "            else :\n",
    "                fbloc.append(x)\n",
    "        \n",
    "        else:\n",
    "            temp+= x\n",
    "    \n",
    "    fbloc = [x.strip(' ') for x in fbloc]\n",
    "    new_list = list(filter(None, fbloc))\n",
    "\n",
    "    return new_list"
   ]
  },
  {
   "cell_type": "code",
   "execution_count": 4,
   "metadata": {},
   "outputs": [
    {
     "data": {
      "text/plain": [
       "['3\\\\cdot x^3', '+', '(1 - 2)', '+', '3\\\\cdot x^2']"
      ]
     },
     "execution_count": 4,
     "metadata": {},
     "output_type": "execute_result"
    }
   ],
   "source": [
    "newbloc = blocc(latex)\n",
    "newbloc"
   ]
  },
  {
   "cell_type": "code",
   "execution_count": 6,
   "metadata": {},
   "outputs": [],
   "source": [
    "def soubloc(blocs):\n",
    "\n",
    "    fblocs = list()\n",
    "    for bloc in blocs:\n",
    "        nbloc = blocc(bloc, True)\n",
    "        fblocs.append(nbloc)\n",
    "    return fblocs"
   ]
  },
  {
   "cell_type": "code",
   "execution_count": 7,
   "metadata": {},
   "outputs": [
    {
     "data": {
      "text/plain": [
       "[['3\\\\cdot x^3'], ['+'], ['(', '1', '-', '2', ')'], ['+'], ['3\\\\cdot x^2']]"
      ]
     },
     "execution_count": 7,
     "metadata": {},
     "output_type": "execute_result"
    }
   ],
   "source": [
    "soubloc(newbloc)\n"
   ]
  },
  {
   "cell_type": "code",
   "execution_count": 8,
   "metadata": {},
   "outputs": [
    {
     "data": {
      "text/plain": [
       "[['3·x^3'],\n",
       " ['+'],\n",
       " ['(', '1', '-', '3·', '(', 'x', '+', '2', ')', ')'],\n",
       " ['+'],\n",
       " ['3·x^2']]"
      ]
     },
     "execution_count": 8,
     "metadata": {},
     "output_type": "execute_result"
    }
   ],
   "source": [
    "newbloc = soubloc(blocc(expr))\n",
    "newbloc"
   ]
  },
  {
   "cell_type": "code",
   "execution_count": 9,
   "metadata": {},
   "outputs": [],
   "source": [
    "def AddEquation(equation, target = EQUATIONS):\n",
    "    target.append(soubloc(blocc(equation)))"
   ]
  },
  {
   "cell_type": "code",
   "execution_count": 10,
   "metadata": {},
   "outputs": [],
   "source": [
    "def replaceEquation(equation, index, target = EQUATIONS ):\n",
    "    target[index] = soubloc(blocc(equation))"
   ]
  },
  {
   "cell_type": "code",
   "execution_count": 11,
   "metadata": {},
   "outputs": [],
   "source": [
    "def deleteEquation(index, target = EQUATIONS):\n",
    "    target[0]"
   ]
  },
  {
   "cell_type": "code",
   "execution_count": 23,
   "metadata": {},
   "outputs": [],
   "source": [
    "def ClearHistory(target = EQUATIONS):\n",
    "    target = target.clear()"
   ]
  },
  {
   "cell_type": "code",
   "execution_count": 26,
   "metadata": {},
   "outputs": [],
   "source": [
    "def ReplaceBlock(block_r, index_i, index_j, target = EQUATIONS):\n",
    "    target[index_i][index_j] = block_r"
   ]
  },
  {
   "cell_type": "code",
   "execution_count": 27,
   "metadata": {},
   "outputs": [],
   "source": [
    "def AddBlock(block, index_i, index_j, target = EQUATIONS):\n",
    "    target  = target[index_i][index_j].append(block)"
   ]
  },
  {
   "cell_type": "code",
   "execution_count": 28,
   "metadata": {},
   "outputs": [],
   "source": [
    "def RemoveBlock(block, index_i, index_j, target = EQUATIONS):\n",
    "    target = target.pop(index_i,index_j)"
   ]
  },
  {
   "cell_type": "code",
   "execution_count": 37,
   "metadata": {},
   "outputs": [],
   "source": [
    "EQUATIONS.clear()"
   ]
  },
  {
   "cell_type": "code",
   "execution_count": 38,
   "metadata": {},
   "outputs": [
    {
     "name": "stdout",
     "output_type": "stream",
     "text": [
      "[[['3·x^3'], ['+'], ['(', '1', '-', '3·', '(', 'x', '+', '2', ')', ')'], ['+'], ['3·x^2']]]\n"
     ]
    }
   ],
   "source": [
    "AddEquation(expr)\n",
    "print(EQUATIONS)"
   ]
  },
  {
   "cell_type": "code",
   "execution_count": 39,
   "metadata": {},
   "outputs": [
    {
     "name": "stdout",
     "output_type": "stream",
     "text": [
      "[['x^2', ['+'], ['(', '1', '-', '3·', '(', 'x', '+', '2', ')', ')'], ['+'], ['3·x^2']]]\n"
     ]
    }
   ],
   "source": [
    "ReplaceBlock(\"x^2\", 0, 0)\n",
    "print(EQUATIONS)"
   ]
  },
  {
   "cell_type": "code",
   "execution_count": null,
   "metadata": {},
   "outputs": [],
   "source": []
  }
 ],
 "metadata": {
  "kernelspec": {
   "display_name": "Python 3.10.8 64-bit (microsoft store)",
   "language": "python",
   "name": "python3"
  },
  "language_info": {
   "codemirror_mode": {
    "name": "ipython",
    "version": 3
   },
   "file_extension": ".py",
   "mimetype": "text/x-python",
   "name": "python",
   "nbconvert_exporter": "python",
   "pygments_lexer": "ipython3",
   "version": "3.10.8"
  },
  "orig_nbformat": 4,
  "vscode": {
   "interpreter": {
    "hash": "f14cb10f796348c968d5baf9d83ecb398066de10f507e5057290b4eaf169e25d"
   }
  }
 },
 "nbformat": 4,
 "nbformat_minor": 2
}
