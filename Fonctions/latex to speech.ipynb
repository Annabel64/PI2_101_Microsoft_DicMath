{
 "cells": [
  {
   "cell_type": "markdown",
   "metadata": {},
   "source": [
    "# Fonctions python - PI2"
   ]
  },
  {
   "cell_type": "markdown",
   "metadata": {},
   "source": [
    "## Imports"
   ]
  },
  {
   "cell_type": "code",
   "execution_count": 31,
   "metadata": {},
   "outputs": [],
   "source": [
    "#pip install gTTS\n",
    "#pip install pygame\n",
    "#pip install pylatexenc\n",
    "import os\n",
    "import azure.cognitiveservices.speech as speechsdk\n",
    "from pylatexenc.latex2text import LatexNodes2Text\n",
    "from gtts import gTTS\n",
    "from io import BytesIO\n",
    "import pygame\n",
    "\n",
    "cle='4c9e5aae707e41518a148720a8b56c11'\n",
    "region='francecentral'"
   ]
  },
  {
   "cell_type": "markdown",
   "metadata": {},
   "source": [
    "## Speech to text"
   ]
  },
  {
   "cell_type": "code",
   "execution_count": null,
   "metadata": {},
   "outputs": [],
   "source": [
    "def recognize_from_microphone():\n",
    "    # This example requires environment variables named \"SPEECH_KEY\" and \"SPEECH_REGION\"\n",
    "    speech_config = speechsdk.SpeechConfig(subscription=cle, region=region)\n",
    "    speech_config.speech_recognition_language = \"en-US\"\n",
    "\n",
    "    audio_config = speechsdk.audio.AudioConfig(use_default_microphone=True)\n",
    "    speech_recognizer = speechsdk.SpeechRecognizer(\n",
    "        speech_config=speech_config, audio_config=audio_config)\n",
    "\n",
    "    print(\"Speak into your microphone.\")\n",
    "    speech_recognition_result = speech_recognizer.recognize_once_async().get()\n",
    "\n",
    "    if speech_recognition_result.reason == speechsdk.ResultReason.RecognizedSpeech:\n",
    "        print(\"Recognized: {}\".format(speech_recognition_result.text))\n",
    "        return speech_recognition_result.text\n",
    "    elif speech_recognition_result.reason == speechsdk.ResultReason.NoMatch:\n",
    "        print(\"No speech could be recognized: {}\".format(\n",
    "            speech_recognition_result.no_match_details))\n",
    "        return \"No speech could be recognise\"\n",
    "    elif speech_recognition_result.reason == speechsdk.ResultReason.Canceled:\n",
    "        cancellation_details = speech_recognition_result.cancellation_details\n",
    "        print(\"Speech Recognition canceled: {}\".format(\n",
    "            cancellation_details.reason))\n",
    "        if cancellation_details.reason == speechsdk.CancellationReason.Error:\n",
    "            print(\"Error details: {}\".format(\n",
    "                cancellation_details.error_details))\n",
    "            print(\"Did you set the speech resource key and region values?\")\n",
    "        return \"error\"\n"
   ]
  },
  {
   "cell_type": "markdown",
   "metadata": {},
   "source": [
    "## Choix speaker"
   ]
  },
  {
   "cell_type": "code",
   "execution_count": null,
   "metadata": {},
   "outputs": [],
   "source": [
    "def choixSpeaker(gender=\"female\", language=\"fr\"):\n",
    "    speaker = \"fr-FR-CelesteNeural\"\n",
    "\n",
    "    if language == \"fr\":\n",
    "        if gender == \"male\":\n",
    "            speaker = \"fr-FR-AlainNeural\"\n",
    "    elif language == \"en\":\n",
    "        if gender == \"male\":\n",
    "            speaker = \"en-GB-AlfieNeural\"\n",
    "        elif gender == \"female\":\n",
    "            speaker = \"en-US-AmberNeural\"\n",
    "    elif language == \"es\":\n",
    "        if gender == \"male\":\n",
    "            speaker = \"es-ES-AlvaroNeural\"\n",
    "        elif gender == \"female\":\n",
    "            speaker = \"es-ES-AbrilNeural\"\n",
    "    elif language == \"de\":\n",
    "        if gender == \"male\":\n",
    "            speaker = \"de-DE-BerndNeural\"\n",
    "        elif gender == \"female\":\n",
    "            speaker = \"de-DE-AmalaNeural\"\n",
    "\n",
    "    return speaker\n"
   ]
  },
  {
   "cell_type": "markdown",
   "metadata": {},
   "source": [
    "## Latex to text to speech"
   ]
  },
  {
   "cell_type": "code",
   "execution_count": 10,
   "metadata": {},
   "outputs": [
    {
     "name": "stdout",
     "output_type": "stream",
     "text": [
      "f ( x ) = 3 ·x^3 + 1 + 2 + 3 ·x^2\n",
      "<_io.BytesIO object at 0x0000019A730C5D60>\n"
     ]
    }
   ],
   "source": [
    "#fonction pas microsoft\n",
    "\"\"\" def latex2speech(latex, language='fr'):\n",
    "\t#latex to text\n",
    "\tlatex=latex.replace(f\"\\r\", f'\\\\r')\n",
    "\ttext=LatexNodes2Text().latex_to_text(latex)\n",
    "\tprint(text)\n",
    "\n",
    "\t#text to speech\n",
    "\tpygame.init()\n",
    "\tpygame.mixer.init()\n",
    "\tmp3_fo = BytesIO()\n",
    "\ttts = gTTS(text, lang=language, slow=True)\n",
    "\ttts.write_to_fp(mp3_fo)\n",
    "\tpygame.mixer.music.load(mp3_fo, 'mp3')\n",
    "\tpygame.mixer.music.play()\n",
    "\t\n",
    "\treturn mp3_fo\n",
    "\n",
    "latex= \"f \\left ( x \\right ) = 3 \\cdot x^3 + 1 + 2 + 3 \\cdot x^2\"\n",
    "print(latex2speech(latex))\n",
    "\n",
    "latex2 = \"3\\cdot x^3 + 1 + 2 + 3 \\cdot x^2\"\n",
    "print(latex2speech(latex2)) \"\"\""
   ]
  },
  {
   "cell_type": "code",
   "execution_count": null,
   "metadata": {},
   "outputs": [],
   "source": [
    "# fonction microsoft\n",
    "\n",
    "def text2speech(text, lang='fr', gender=\"female\"):\n",
    "    speech_config = speechsdk.SpeechConfig(subscription=cle, region=region)\n",
    "    audio_config = speechsdk.audio.AudioOutputConfig(use_default_speaker=True)\n",
    "\n",
    "    # The language of the voice that speaks.\n",
    "    #speech_config.speech_synthesis_voice_name = 'fr-FR-CelesteNeural'\n",
    "    speech_config.speech_synthesis_voice_name = choixSpeaker(gender=gender, language=lang)\n",
    "\n",
    "    speech_synthesizer = speechsdk.SpeechSynthesizer(speech_config=speech_config, audio_config=audio_config)\n",
    "\n",
    "    speech_synthesis_result = speech_synthesizer.speak_text_async(text).get()\n",
    "\n",
    "    if speech_synthesis_result.reason == speechsdk.ResultReason.SynthesizingAudioCompleted:\n",
    "        print(\"Speech synthesized for text [{}]\".format(text))\n",
    "    elif speech_synthesis_result.reason == speechsdk.ResultReason.Canceled:\n",
    "        cancellation_details = speech_synthesis_result.cancellation_details\n",
    "        print(\"Speech synthesis canceled: {}\".format(cancellation_details.reason))\n",
    "        if cancellation_details.reason == speechsdk.CancellationReason.Error:\n",
    "            if cancellation_details.error_details:\n",
    "                print(\"Error details: {}\".format(cancellation_details.error_details))\n",
    "                print(\"Did you set the speech resource key and region values?\")\n",
    "\n"
   ]
  }
 ],
 "metadata": {
  "kernelspec": {
   "display_name": "Python 3.9.12 ('base')",
   "language": "python",
   "name": "python3"
  },
  "language_info": {
   "codemirror_mode": {
    "name": "ipython",
    "version": 3
   },
   "file_extension": ".py",
   "mimetype": "text/x-python",
   "name": "python",
   "nbconvert_exporter": "python",
   "pygments_lexer": "ipython3",
   "version": "3.9.12"
  },
  "orig_nbformat": 4,
  "vscode": {
   "interpreter": {
    "hash": "cb57b3ccfe62c6746bf3247651268e5f45d4314d13d2f08503817b1c05971834"
   }
  }
 },
 "nbformat": 4,
 "nbformat_minor": 2
}
