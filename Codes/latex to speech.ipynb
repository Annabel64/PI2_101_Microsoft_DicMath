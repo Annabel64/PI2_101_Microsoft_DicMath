{
 "cells": [
  {
   "cell_type": "markdown",
   "metadata": {},
   "source": [
    "# Latex to speech PI2"
   ]
  },
  {
   "cell_type": "markdown",
   "metadata": {},
   "source": [
    "### Imports"
   ]
  },
  {
   "cell_type": "code",
   "execution_count": 31,
   "metadata": {},
   "outputs": [],
   "source": [
    "#pip install gTTS\n",
    "#pip install pygame\n",
    "#pip install pylatexenc"
   ]
  },
  {
   "cell_type": "markdown",
   "metadata": {},
   "source": [
    "## Latex to text to speech"
   ]
  },
  {
   "cell_type": "code",
   "execution_count": 10,
   "metadata": {},
   "outputs": [
    {
     "name": "stdout",
     "output_type": "stream",
     "text": [
      "f ( x ) = 3 ·x^3 + 1 + 2 + 3 ·x^2\n",
      "<_io.BytesIO object at 0x0000019A730C5D60>\n"
     ]
    }
   ],
   "source": [
    "from pylatexenc.latex2text import LatexNodes2Text\n",
    "from gtts import gTTS\n",
    "from io import BytesIO\n",
    "import pygame\n",
    "\n",
    "\n",
    "def latex2speech(latex, language='fr'):\n",
    "\t#latex to text\n",
    "\tlatex=latex.replace(f\"\\r\", f'\\\\r')\n",
    "\ttext=LatexNodes2Text().latex_to_text(latex)\n",
    "\tprint(text)\n",
    "\n",
    "\t#text to speech\n",
    "\tpygame.init()\n",
    "\tpygame.mixer.init()\n",
    "\tmp3_fo = BytesIO()\n",
    "\ttts = gTTS(text, lang=language, slow=True)\n",
    "\ttts.write_to_fp(mp3_fo)\n",
    "\tpygame.mixer.music.load(mp3_fo, 'mp3')\n",
    "\tpygame.mixer.music.play()\n",
    "\t\n",
    "\treturn mp3_fo\n",
    "\n",
    "latex= \"f \\left ( x \\right ) = 3 \\cdot x^3 + 1 + 2 + 3 \\cdot x^2\"\n",
    "print(latex2speech(latex))\n",
    "\n",
    "latex2 = \"3\\cdot x^3 + 1 + 2 + 3 \\cdot x^2\"\n",
    "print(latex2speech(latex2))"
   ]
  }
 ],
 "metadata": {
  "kernelspec": {
   "display_name": "Python 3.10.8 64-bit (microsoft store)",
   "language": "python",
   "name": "python3"
  },
  "language_info": {
   "codemirror_mode": {
    "name": "ipython",
    "version": 3
   },
   "file_extension": ".py",
   "mimetype": "text/x-python",
   "name": "python",
   "nbconvert_exporter": "python",
   "pygments_lexer": "ipython3",
   "version": "3.10.8"
  },
  "orig_nbformat": 4,
  "vscode": {
   "interpreter": {
    "hash": "f14cb10f796348c968d5baf9d83ecb398066de10f507e5057290b4eaf169e25d"
   }
  }
 },
 "nbformat": 4,
 "nbformat_minor": 2
}
