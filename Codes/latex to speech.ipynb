{
 "cells": [
  {
   "cell_type": "markdown",
   "metadata": {},
   "source": [
    "# Latex to speech PI2"
   ]
  },
  {
   "cell_type": "markdown",
   "metadata": {},
   "source": [
    "### Imports"
   ]
  },
  {
   "cell_type": "code",
   "execution_count": 31,
   "metadata": {},
   "outputs": [],
   "source": [
    "#pip install gTTS\n",
    "#pip install pygame\n",
    "#pip install pylatexenc"
   ]
  },
  {
   "cell_type": "markdown",
   "metadata": {},
   "source": [
    "## Latex to text to speech"
   ]
  },
  {
   "cell_type": "code",
   "execution_count": 32,
   "metadata": {},
   "outputs": [
    {
     "name": "stdout",
     "output_type": "stream",
     "text": [
      "pygame 2.1.2 (SDL 2.0.18, Python 3.9.12)\n",
      "Hello from the pygame community. https://www.pygame.org/contribute.html\n"
     ]
    }
   ],
   "source": [
    "from pylatexenc.latex2text import LatexNodes2Text\n",
    "from gtts import gTTS\n",
    "from io import BytesIO\n",
    "import pygame\n",
    "\n",
    "\n",
    "def latex2speech(latex, language='fr'):\n",
    "\t#latex to text\n",
    "\tlatex=latex.replace(f\"\\r\", f'\\\\r')\n",
    "\ttext=LatexNodes2Text().latex_to_text(latex)\n",
    "\tprint(text)\n",
    "\n",
    "\t#text to speech\n",
    "\tpygame.init()\n",
    "\tpygame.mixer.init()\n",
    "\tmp3_fo = BytesIO()\n",
    "\ttts = gTTS(text, lang=language, slow=True)\n",
    "\ttts.write_to_fp(mp3_fo)\n",
    "\tpygame.mixer.music.load(mp3_fo, 'mp3')\n",
    "\tpygame.mixer.music.play()\n",
    "\t\n",
    "\t# return mp3_fo\n"
   ]
  },
  {
   "cell_type": "code",
   "execution_count": 33,
   "metadata": {},
   "outputs": [],
   "source": [
    "latex = \"3\\cdot x^3 + 1 + 2 + 3 \\cdot x^2\"\n",
    "\n",
    "latex2 = \"f \\left ( x \\right ) = 3 \\cdot x^3 + 1 + 2 + 3 \\cdot x^2\""
   ]
  },
  {
   "cell_type": "code",
   "execution_count": 34,
   "metadata": {},
   "outputs": [
    {
     "name": "stdout",
     "output_type": "stream",
     "text": [
      "3·x^3 + 1 + 2 + 3 ·x^2\n"
     ]
    }
   ],
   "source": [
    "latex2speech(latex) #voix plus humaine ? natural voice microsoft"
   ]
  },
  {
   "cell_type": "code",
   "execution_count": 35,
   "metadata": {},
   "outputs": [
    {
     "name": "stdout",
     "output_type": "stream",
     "text": [
      "f ( x ) = 3 ·x^3 + 1 + 2 + 3 ·x^2\n"
     ]
    }
   ],
   "source": [
    "latex2speech(latex2)"
   ]
  }
 ],
 "metadata": {
  "kernelspec": {
   "display_name": "Python 3.10.8 64-bit (microsoft store)",
   "language": "python",
   "name": "python3"
  },
  "language_info": {
   "codemirror_mode": {
    "name": "ipython",
    "version": 3
   },
   "file_extension": ".py",
   "mimetype": "text/x-python",
   "name": "python",
   "nbconvert_exporter": "python",
   "pygments_lexer": "ipython3",
   "version": "3.10.8"
  },
  "orig_nbformat": 4,
  "vscode": {
   "interpreter": {
    "hash": "f14cb10f796348c968d5baf9d83ecb398066de10f507e5057290b4eaf169e25d"
   }
  }
 },
 "nbformat": 4,
 "nbformat_minor": 2
}
