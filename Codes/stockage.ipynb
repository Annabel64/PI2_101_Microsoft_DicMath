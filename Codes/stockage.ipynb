{
 "cells": [
  {
   "cell_type": "code",
   "execution_count": 1,
   "metadata": {},
   "outputs": [],
   "source": [
    "from pylatexenc.latex2text import LatexNodes2Text\n",
    "import re"
   ]
  },
  {
   "cell_type": "code",
   "execution_count": 151,
   "metadata": {},
   "outputs": [],
   "source": [
    "latex = \"3\\cdot x^3 + (1 - 2) + 3\\cdot x^2\"\n",
    "text=LatexNodes2Text().latex_to_text(latex)\n",
    "text\n",
    "expr = \"3·x^3 + (1 -(3·x^2)) + 3·x^2\""
   ]
  },
  {
   "cell_type": "code",
   "execution_count": 51,
   "metadata": {},
   "outputs": [
    {
     "data": {
      "text/plain": [
       "['3·x^3 + ', '(', '1 - 2', ')', ' + 3·x^2']"
      ]
     },
     "execution_count": 51,
     "metadata": {},
     "output_type": "execute_result"
    }
   ],
   "source": [
    "re.split('(\\\\(|\\\\))',text)"
   ]
  },
  {
   "cell_type": "code",
   "execution_count": 52,
   "metadata": {},
   "outputs": [
    {
     "data": {
      "text/plain": [
       "['3·x^3 ', '+', ' (1 ', '-', ' 2) ', '+', ' 3·x^2']"
      ]
     },
     "execution_count": 52,
     "metadata": {},
     "output_type": "execute_result"
    }
   ],
   "source": [
    "re.split('(\\\\+|\\\\-)',text)"
   ]
  },
  {
   "cell_type": "code",
   "execution_count": 130,
   "metadata": {},
   "outputs": [],
   "source": [
    "def bloc(latex) : \n",
    "    enbloc =  re.split('(\\\\+|\\\\-)',latex)\n",
    "    fbloc = list()\n",
    "    temp = \"\"\n",
    "    flag = False\n",
    "    flag_n = 0\n",
    "    for x in enbloc:\n",
    "        if '(' in x:\n",
    "            flag = True\n",
    "            temp += x\n",
    "            continue;\n",
    "        if flag == False:\n",
    "            fbloc.append(x)\n",
    "        if flag == True:\n",
    "            temp+= x\n",
    "        if ')'  in x:\n",
    "            fbloc.append(temp)\n",
    "            flag = False\n",
    "\n",
    "    return fbloc"
   ]
  },
  {
   "cell_type": "code",
   "execution_count": 200,
   "metadata": {},
   "outputs": [],
   "source": [
    "def bloc(latex) : \n",
    "    enbloc =  re.split('(\\\\+|\\\\-|\\\\(|\\\\))',latex)\n",
    "    print(enbloc)\n",
    "    fbloc = list()\n",
    "    temp = \"\"\n",
    "    flag = False\n",
    "    flag_n = 0\n",
    "    for x in enbloc:\n",
    "\n",
    "\n",
    "        if '(' in x:\n",
    "            flag_n += 1\n",
    "            temp += x\n",
    "            continue\n",
    "\n",
    "        if ')'  in x:\n",
    "            flag_n -=1\n",
    "            temp += x\n",
    "            continue\n",
    "\n",
    "\n",
    "        if flag_n == 0:\n",
    "            if temp != \"\":\n",
    "                fbloc.append(temp)\n",
    "                temp = \"\"\n",
    "            else :\n",
    "                fbloc.append(x)\n",
    "        \n",
    "        else:\n",
    "            temp+= x\n",
    "        \n",
    "        print(temp)\n",
    "        print(flag_n)\n",
    "    \n",
    "    fbloc = [x.strip(' ') for x in fbloc]\n",
    "    new_list = list(filter(None, fbloc))\n",
    "\n",
    "    return new_list"
   ]
  },
  {
   "cell_type": "code",
   "execution_count": 201,
   "metadata": {},
   "outputs": [
    {
     "name": "stdout",
     "output_type": "stream",
     "text": [
      "['3·x^3 ', '+', ' ', '(', '1 ', '-', '', '(', '3·x^2', ')', '', ')', ' ', '+', ' 3·x^2']\n",
      "\n",
      "0\n",
      "\n",
      "0\n",
      "\n",
      "0\n",
      "(1 \n",
      "1\n",
      "(1 -\n",
      "1\n",
      "(1 -\n",
      "1\n",
      "(1 -(3·x^2\n",
      "2\n",
      "(1 -(3·x^2)\n",
      "1\n",
      "\n",
      "0\n",
      "\n",
      "0\n",
      "\n",
      "0\n"
     ]
    },
    {
     "data": {
      "text/plain": [
       "['3·x^3', '+', '(1 -(3·x^2))', '+', '3·x^2']"
      ]
     },
     "execution_count": 201,
     "metadata": {},
     "output_type": "execute_result"
    }
   ],
   "source": [
    "bloc(expr)"
   ]
  },
  {
   "cell_type": "code",
   "execution_count": null,
   "metadata": {},
   "outputs": [],
   "source": []
  },
  {
   "cell_type": "code",
   "execution_count": null,
   "metadata": {},
   "outputs": [],
   "source": []
  },
  {
   "cell_type": "code",
   "execution_count": null,
   "metadata": {},
   "outputs": [],
   "source": []
  }
 ],
 "metadata": {
  "kernelspec": {
   "display_name": "Python 3.10.8 64-bit (microsoft store)",
   "language": "python",
   "name": "python3"
  },
  "language_info": {
   "codemirror_mode": {
    "name": "ipython",
    "version": 3
   },
   "file_extension": ".py",
   "mimetype": "text/x-python",
   "name": "python",
   "nbconvert_exporter": "python",
   "pygments_lexer": "ipython3",
   "version": "3.10.8"
  },
  "orig_nbformat": 4,
  "vscode": {
   "interpreter": {
    "hash": "f14cb10f796348c968d5baf9d83ecb398066de10f507e5057290b4eaf169e25d"
   }
  }
 },
 "nbformat": 4,
 "nbformat_minor": 2
}
