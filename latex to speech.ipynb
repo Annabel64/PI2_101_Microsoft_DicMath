{
 "cells": [
  {
   "cell_type": "markdown",
   "metadata": {},
   "source": [
    "# Latex to speech PI2"
   ]
  },
  {
   "cell_type": "markdown",
   "metadata": {},
   "source": [
    "Semble très bien marcher avec la librairie gTTs"
   ]
  },
  {
   "cell_type": "markdown",
   "metadata": {},
   "source": [
    "### Imports"
   ]
  },
  {
   "cell_type": "code",
   "execution_count": 22,
   "metadata": {},
   "outputs": [],
   "source": [
    "#pip install gTTS\n",
    "#pip install pygame\n",
    "#pip install pylatexenc"
   ]
  },
  {
   "cell_type": "markdown",
   "metadata": {},
   "source": [
    "## Latex to text"
   ]
  },
  {
   "cell_type": "markdown",
   "metadata": {},
   "source": [
    "!!!! essayer avec l'équation qui ne marche pas"
   ]
  },
  {
   "cell_type": "code",
   "execution_count": 8,
   "metadata": {},
   "outputs": [
    {
     "name": "stdout",
     "output_type": "stream",
     "text": [
      "3·x^3 + 1 + 2 + 3 ·x^2\n"
     ]
    }
   ],
   "source": [
    "from pylatexenc.latex2text import LatexNodes2Text\n",
    "\n",
    "#latexAESSAYER = \"f \\left( x \\right) = 3 \\cdot x^3 + 1 + 2 + 3 \\cdot x^2\"\n",
    "latex = \"3\\cdot x^3 + 1 + 2 + 3 \\cdot x^2\"\n",
    "text = LatexNodes2Text().latex_to_text(latex)\n",
    "print(text)"
   ]
  },
  {
   "cell_type": "markdown",
   "metadata": {},
   "source": [
    "## Text to speech"
   ]
  },
  {
   "cell_type": "code",
   "execution_count": 9,
   "metadata": {},
   "outputs": [],
   "source": [
    "from gtts import gTTS\n",
    "from io import BytesIO\n",
    "import pygame"
   ]
  },
  {
   "cell_type": "code",
   "execution_count": 21,
   "metadata": {},
   "outputs": [],
   "source": [
    "def speak(text, language='fr'):\n",
    "\t\tpygame.init()\n",
    "\t\tpygame.mixer.init()\n",
    "\t\tmp3_fo = BytesIO()\n",
    "\t\ttts = gTTS(text, lang=language, slow=True)\n",
    "\t\ttts.write_to_fp(mp3_fo)\n",
    "\t\tpygame.mixer.music.load(mp3_fo, 'mp3')\n",
    "\t\tpygame.mixer.music.play()\n",
    "\t\n",
    "\t\n",
    "\t# return mp3_fo"
   ]
  },
  {
   "cell_type": "code",
   "execution_count": 14,
   "metadata": {},
   "outputs": [],
   "source": [
    "# sound.seek(0)\n",
    "speak(\"Notre P I carré est trop stylé on va s'amuser!\", language='en')"
   ]
  },
  {
   "cell_type": "code",
   "execution_count": 20,
   "metadata": {},
   "outputs": [],
   "source": [
    "speak(text)"
   ]
  }
 ],
 "metadata": {
  "kernelspec": {
   "display_name": "Python 3.9.12 ('base')",
   "language": "python",
   "name": "python3"
  },
  "language_info": {
   "codemirror_mode": {
    "name": "ipython",
    "version": 3
   },
   "file_extension": ".py",
   "mimetype": "text/x-python",
   "name": "python",
   "nbconvert_exporter": "python",
   "pygments_lexer": "ipython3",
   "version": "3.9.12"
  },
  "orig_nbformat": 4,
  "vscode": {
   "interpreter": {
    "hash": "cb57b3ccfe62c6746bf3247651268e5f45d4314d13d2f08503817b1c05971834"
   }
  }
 },
 "nbformat": 4,
 "nbformat_minor": 2
}
